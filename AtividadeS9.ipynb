{
  "nbformat": 4,
  "nbformat_minor": 0,
  "metadata": {
    "colab": {
      "name": "AtividadeS9.ipynb",
      "provenance": [],
      "collapsed_sections": [],
      "authorship_tag": "ABX9TyMguTlw5y/NVid4jYYeur3V",
      "include_colab_link": true
    },
    "kernelspec": {
      "name": "python3",
      "display_name": "Python 3"
    },
    "language_info": {
      "name": "python"
    }
  },
  "cells": [
    {
      "cell_type": "markdown",
      "metadata": {
        "id": "view-in-github",
        "colab_type": "text"
      },
      "source": [
        "<a href=\"https://colab.research.google.com/github/JeanSantana20/PlanejamentosExperimentos/blob/main/AtividadeS9.ipynb\" target=\"_parent\"><img src=\"https://colab.research.google.com/assets/colab-badge.svg\" alt=\"Open In Colab\"/></a>"
      ]
    },
    {
      "cell_type": "code",
      "metadata": {
        "id": "RWMgZ87MO1El"
      },
      "source": [
        ""
      ],
      "execution_count": null,
      "outputs": []
    },
    {
      "cell_type": "code",
      "metadata": {
        "id": "-k3f7ow4l8S6"
      },
      "source": [
        "from scipy import stats\n",
        "from matplotlib import pyplot as plt\n",
        "\n",
        "#Tamanho dos dados\n",
        "size = [128, 256, 384, 512, 640, 768, 896, 1024]\n",
        "\n",
        "# Tempo por observações\n",
        "observation1 = [386, 850, 1544, 3035, 6650, 13887, 28059, 50916]\n",
        "observation2 = [375, 805, 1644, 3123, 6839, 14567, 27439, 52129]\n",
        "observation3 = [393, 824, 1553, 3235, 6768, 13456, 27659, 51360]\n",
        "\n"
      ],
      "execution_count": null,
      "outputs": []
    }
  ]
}