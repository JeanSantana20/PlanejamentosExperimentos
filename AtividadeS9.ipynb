{
  "nbformat": 4,
  "nbformat_minor": 0,
  "metadata": {
    "colab": {
      "name": "AtividadeS9.ipynb",
      "provenance": [],
      "collapsed_sections": [],
      "authorship_tag": "ABX9TyMdi2l7DT50C4HROs/sYN+w",
      "include_colab_link": true
    },
    "kernelspec": {
      "name": "python3",
      "display_name": "Python 3"
    },
    "language_info": {
      "name": "python"
    }
  },
  "cells": [
    {
      "cell_type": "markdown",
      "metadata": {
        "id": "view-in-github",
        "colab_type": "text"
      },
      "source": [
        "<a href=\"https://colab.research.google.com/github/JeanSantana20/PlanejamentosExperimentos/blob/main/AtividadeS9.ipynb\" target=\"_parent\"><img src=\"https://colab.research.google.com/assets/colab-badge.svg\" alt=\"Open In Colab\"/></a>"
      ]
    },
    {
      "cell_type": "markdown",
      "metadata": {
        "id": "rZxbE3n23SSR"
      },
      "source": [
        ""
      ]
    },
    {
      "cell_type": "markdown",
      "metadata": {
        "id": "CwrJKtZn3UtR"
      },
      "source": [
        "Aluno: Jean Santana de Souza\n",
        "Matrícula: 18111463\n",
        "Disciplina: Planejamento e Experimento, 2020.1\n",
        "Professora: Raquel"
      ]
    },
    {
      "cell_type": "markdown",
      "metadata": {
        "id": "Jk1FLq8bwi3E"
      },
      "source": [
        "Letra A"
      ]
    },
    {
      "cell_type": "code",
      "metadata": {
        "colab": {
          "base_uri": "https://localhost:8080/",
          "height": 313
        },
        "id": "wfTUlS1ZwlQn",
        "outputId": "dda0dcaf-b179-46ba-eecd-7edbff826946"
      },
      "source": [
        "import matplotlib.pyplot as plt\n",
        "import numpy as np\n",
        "from scipy import stats\n",
        "\n",
        "#Tamanho dos dados\n",
        "size = [128, 256, 384, 512, 640, 768, 896, 1024]\n",
        "\n",
        "# Tempo por observações\n",
        "observation1 = [386, 850, 1544, 3035, 6650, 13887, 28059, 50916]\n",
        "observation2 = [375, 805, 1644, 3123, 6839, 14567, 27439, 52129]\n",
        "observation3 = [393, 824, 1553, 3235, 6768, 13456, 27659, 51360]\n",
        "\n",
        "def grafico1(tamanho,obs,nome):\n",
        "  plt.plot( tamanho, obs, 'bo') # bolinha\n",
        "\n",
        "  \n",
        "  plt.xlabel(\"Record size\")\n",
        "  plt.ylabel(nome)\n",
        "  plt.show()\n",
        "\n",
        "count = 1\n",
        "while count != 0:\n",
        "  x = int(input('Digite 1 para a primeira observação, 2 para a segunada observação, 3 para a terceira observação e 0 para sair: ')  )\n",
        "  if x == 1:\n",
        "    n = 'Observation1'\n",
        "    grafico1(size,observation1, n)\n",
        "    \n",
        "  elif x == 2:\n",
        "    n = 'Observation2'\n",
        "    grafico1(size,observation2, n)\n",
        "  elif x == 3:\n",
        "    n = 'Observation3'\n",
        "    grafico1(size,observation3, n)\n",
        "  elif x == 0:\n",
        "    count = 0"
      ],
      "execution_count": null,
      "outputs": [
        {
          "output_type": "stream",
          "text": [
            "Digite 1 para a primeira observação, 2 para a segunada observação, 3 para a terceira observação e 0 para sair: 1\n"
          ],
          "name": "stdout"
        },
        {
          "output_type": "display_data",
          "data": {
            "image/png": "[encoded data removed]",
            "text/plain": [
              "<Figure size 432x288 with 1 Axes>"
            ]
          },
          "metadata": {
            "tags": [],
            "needs_background": "light"
          }
        },
        {
          "output_type": "stream",
          "text": [
            "Digite 1 para a primeira observação, 2 para a segunada observação, 3 para a terceira observação e 0 para sair: 0\n"
          ],
          "name": "stdout"
        }
      ]
    },
    {
      "cell_type": "markdown",
      "metadata": {
        "id": "6AngoK5Jwl_t"
      },
      "source": [
        "Letra B"
      ]
    },
    {
      "cell_type": "code",
      "metadata": {
        "colab": {
          "base_uri": "https://localhost:8080/",
          "height": 592
        },
        "id": "nVeQ3AJqwoV8",
        "outputId": "e787d88e-d2f4-4e62-d9e8-c72ec235aa49"
      },
      "source": [
        "from scipy import stats\n",
        "from matplotlib import pyplot as plt\n",
        "\n",
        "\n",
        "#Tamanho dos dados\n",
        "size = [128, 256, 384, 512, 640, 768, 896, 1024]\n",
        "\n",
        "# Tempo por observações\n",
        "observation1 = [386, 850, 1544, 3035, 6650, 13887, 28059, 50916]\n",
        "observation2 = [375, 805, 1644, 3123, 6839, 14567, 27439, 52129]\n",
        "observation3 = [393, 824, 1553, 3235, 6768, 13456, 27659, 51360]\n",
        "\n",
        "def grafico(tamanho,obs,nome):\n",
        "  m, b, r_value, p_value, std_err = stats.linregress(tamanho,obs)\n",
        "\n",
        "  linha_reg = [m*i + b for i in range(max(tamanho))]\n",
        "\n",
        "  plt.scatter(tamanho,obs)\n",
        "  plt.plot(linha_reg, 'r')\n",
        "  plt.xlabel(\"tamanho\")\n",
        "  plt.ylabel(nome)\n",
        "  plt.show()\n",
        "\n",
        "count = 1\n",
        "while count != 0:\n",
        "  x = int(input('Digite 1 para a primeira observação, 2 para a segunada observação, 3 para a terceira observação e 0 para sair: ')  )\n",
        "  if x == 1:\n",
        "    n = 'Observation1'\n",
        "    grafico(size,observation1, n)\n",
        "    \n",
        "  elif x == 2:\n",
        "    n = 'Observation2'\n",
        "    grafico(size,observation2, n)\n",
        "  elif x == 3:\n",
        "    n = 'Observation3'\n",
        "    grafico(size,observation3, n)\n",
        "  elif x == 0:\n",
        "    count = 0"
      ],
      "execution_count": null,
      "outputs": [
        {
          "output_type": "stream",
          "text": [
            "Digite 1 para a primeira observação, 2 para a segunada observação, 3 para a terceira observação e 0 para sair: 1\n"
          ],
          "name": "stdout"
        },
        {
          "output_type": "display_data",
          "data": {
            "image/png": "[encoded data removed]",
            "text/plain": [
              "<Figure size 432x288 with 1 Axes>"
            ]
          },
          "metadata": {
            "tags": [],
            "needs_background": "light"
          }
        },
        {
          "output_type": "stream",
          "text": [
            "Digite 1 para a primeira observação, 2 para a segunada observação, 3 para a terceira observação e 0 para sair: 2\n"
          ],
          "name": "stdout"
        },
        {
          "output_type": "display_data",
          "data": {
            "image/png": "[encoded data removed]",
            "text/plain": [
              "<Figure size 432x288 with 1 Axes>"
            ]
          },
          "metadata": {
            "tags": [],
            "needs_background": "light"
          }
        },
        {
          "output_type": "stream",
          "text": [
            "Digite 1 para a primeira observação, 2 para a segunada observação, 3 para a terceira observação e 0 para sair: 0\n"
          ],
          "name": "stdout"
        }
      ]
    }
  ]
}