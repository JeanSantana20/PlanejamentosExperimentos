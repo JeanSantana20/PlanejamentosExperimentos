{
  "nbformat": 4,
  "nbformat_minor": 0,
  "metadata": {
    "colab": {
      "name": "AtividadeS9.ipynb",
      "provenance": [],
      "collapsed_sections": [],
      "authorship_tag": "ABX9TyMBfxyVfuHllEvtdo47I8N1",
      "include_colab_link": true
    },
    "kernelspec": {
      "name": "python3",
      "display_name": "Python 3"
    },
    "language_info": {
      "name": "python"
    }
  },
  "cells": [
    {
      "cell_type": "markdown",
      "metadata": {
        "id": "view-in-github",
        "colab_type": "text"
      },
      "source": [
        "<a href=\"https://colab.research.google.com/github/JeanSantana20/PlanejamentosExperimentos/blob/main/AtividadeS9.ipynb\" target=\"_parent\"><img src=\"https://colab.research.google.com/assets/colab-badge.svg\" alt=\"Open In Colab\"/></a>"
      ]
    },
    {
      "cell_type": "code",
      "metadata": {
        "id": "RWMgZ87MO1El"
      },
      "source": [
        ""
      ],
      "execution_count": null,
      "outputs": []
    },
    {
      "cell_type": "code",
      "metadata": {
        "id": "-k3f7ow4l8S6"
      },
      "source": [
        "from scipy import stats\n",
        "from matplotlib import pyplot as plt\n",
        "\n",
        "#Tamanho dos dados\n",
        "size = [128, 256, 384, 512, 640, 768, 896, 1024]\n",
        "\n",
        "# Tempo por observações\n",
        "observation1 = [386, 850, 1544, 3035, 6650, 13887, 28059, 50916]\n",
        "observation2 = [375, 805, 1644, 3123, 6839, 14567, 27439, 52129]\n",
        "observation3 = [393, 824, 1553, 3235, 6768, 13456, 27659, 51360]\n",
        "x = input('Digite 1 para a primeira observação, 2 para a segunada observação, 3 para a terceira observação e 0 para sair: ')\n",
        "\n",
        "def grafico(tamanho,obs,nome):\n",
        "  m, b, r_value, p_value, std_err = stats.linregress(tamanho,obs)\n",
        "\n",
        "  linha_reg = [m*i + b for i in range(max(tamanho))]\n",
        "\n",
        "  plt.scatter(tamanho,obs)\n",
        "  plt.plot(linha_reg, 'r')\n",
        "  plt.xlabel(\"tamanho\")\n",
        "  plt.ylabel(\"obs\")\n",
        "  plt.show()\n",
        "\n",
        "count = 1\n",
        "while count != 0:\n",
        "  if x == '1':\n",
        "    n = 'Observation1'\n",
        "    grafico(size,observation1, n)\n",
        "\n",
        "  elif x == '2':\n",
        "    n = 'Observation2'\n",
        "    grafico(size,observation2, n)\n"
      ],
      "execution_count": null,
      "outputs": []
    }
  ]
}